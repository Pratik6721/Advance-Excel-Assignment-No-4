{
 "cells": [
  {
   "cell_type": "markdown",
   "id": "e055518e",
   "metadata": {},
   "source": [
    "1 . To use the ribbon commands, what menu and grouping of commands will you find the Insert and Delete command?\n",
    "Ans - We can find Insert and Delete command under Home > Cells > Insert/Delete."
   ]
  },
  {
   "cell_type": "markdown",
   "id": "64e535d6",
   "metadata": {},
   "source": [
    "2 . If you set a row height or column width to 0 (zero), what happens to the row and column?\n",
    "Ans - If we set a row height or column width to 0 (zero), the row/column gets hidden. "
   ]
  },
  {
   "cell_type": "markdown",
   "id": "f1fe5bc3",
   "metadata": {},
   "source": [
    "3 . Is there a need to change the height and width in a cell? Why?\n",
    "Ans - Yes thIs there a need to change the height and width in a cell? Why?ere is need to change the height and width in a cell because values get clumpsy(content gets replaced by ###) due to less space available. So to look values more clearly we need to change the height and width in a cell. Sometimes the content in the cell is large so to see the content clearly we need to change the height and width in a cell."
   ]
  },
  {
   "cell_type": "markdown",
   "id": "a5eee090",
   "metadata": {},
   "source": [
    "4 . What is the keyboard shortcut to unhide rows?\n",
    "Ans - The keyboard shortcut to unhide rows is CTRL+SHIFT+9."
   ]
  },
  {
   "cell_type": "markdown",
   "id": "9b300ce3",
   "metadata": {},
   "source": [
    "5 . How to hide rows containing blank cells? \n",
    "Ans - We can hide rows containing blank cells in 2 ways. By using I. Go To Special II. Filter Function\n",
    "I. Go To Special -------> i. Select the data range which contains the blank cells we want to hide. ii. Then click Home > Find & Select > Go To Special iii. In the Go To Special dialog, select Blanks option, and then click OK button. iv. All of the blank cells in the selection have been selected. v. Then we can press Ctrl + 9 keys together to hide the rows which have blank cells.\n",
    "\n",
    "II. Filter Function -------> i. Select the column that contains blank cells. ii. Then in Home tab > Editing > Sort & Filter > Filter iii. After above operation, an arrow button is displayed in that particular cell. iv. Click the Arrow button to show all filter settings, uncheck “(Blanks)” and keep other number options checked. Then click OK button. v. After clicking OK, rows with blank cells included are hidden."
   ]
  },
  {
   "cell_type": "markdown",
   "id": "77580e4e",
   "metadata": {},
   "source": [
    "6 . What are the steps to hide the duplicate values using conditional formatting in\n",
    "excel?\n",
    "Ans - For hiding all duplicates in Excel using conditional formatting follow the steps:\n",
    "i. Select the range we want to hide duplicates.\n",
    "ii. Then click Conditional Formatting > Highlight Cells Rules > Duplicate Values under Home tab.\n",
    "iii. In the Duplicate Values dialog box, select Custom Format in the values with drop-down list, and then click the OK button.\n",
    "iv. In the Format Cells dialog box, go to the Font tab, and in the Color drop-down list, choose a font color which matches the background color of our selected range cell. And finally click the OK button.\n",
    "v. When it returns to the Duplicate Values dialog box, click the OK button. Now all duplicate records in selected columns are hidden immediately."
   ]
  }
 ],
 "metadata": {
  "kernelspec": {
   "display_name": "Python 3 (ipykernel)",
   "language": "python",
   "name": "python3"
  },
  "language_info": {
   "codemirror_mode": {
    "name": "ipython",
    "version": 3
   },
   "file_extension": ".py",
   "mimetype": "text/x-python",
   "name": "python",
   "nbconvert_exporter": "python",
   "pygments_lexer": "ipython3",
   "version": "3.9.12"
  }
 },
 "nbformat": 4,
 "nbformat_minor": 5
}
